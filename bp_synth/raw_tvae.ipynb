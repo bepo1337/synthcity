{
 "cells": [
  {
   "cell_type": "code",
   "id": "initial_id",
   "metadata": {
    "collapsed": true,
    "ExecuteTime": {
     "end_time": "2025-04-16T20:43:36.461431Z",
     "start_time": "2025-04-16T20:43:36.005427Z"
    }
   },
   "source": [
    "import pandas as pd\n",
    "import numpy as np\n",
    "\n",
    "df = pd.read_json(\"../data/real_data_train.json\")\n",
    "string_cols = [\"coach_id\", \"player_id\", \"club_id\"]\n",
    "\n",
    "df[string_cols] = df[string_cols].astype(str)\n",
    "df.season_id.value_counts()\n"
   ],
   "outputs": [
    {
     "data": {
      "text/plain": [
       "season_id\n",
       "2018    5624\n",
       "2016    5357\n",
       "2019    5237\n",
       "2011    5180\n",
       "2014    5018\n",
       "2017    4988\n",
       "2010    4929\n",
       "2012    4702\n",
       "2013    4512\n",
       "2015    4146\n",
       "Name: count, dtype: int64"
      ]
     },
     "execution_count": 2,
     "metadata": {},
     "output_type": "execute_result"
    }
   ],
   "execution_count": 2
  },
  {
   "metadata": {
    "ExecuteTime": {
     "end_time": "2025-04-17T08:13:09.765369Z",
     "start_time": "2025-04-17T08:09:53.004319Z"
    }
   },
   "cell_type": "code",
   "source": [
    "from synthcity.plugins import Plugins\n",
    "from synthcity.utils.serialization import save_to_file, load_from_file\n",
    "\n",
    "tvae = Plugins().get(\"tvae\") # can edit iterations here\n",
    "tvae.fit(df)\n",
    "\n",
    "save_to_file(\"tvae_no_pp.pkl\", tvae)\n",
    "training_data_sample_size = df.shape[0]\n",
    "samples = tvae.generate(count=training_data_sample_size)\n",
    "samples_df = samples.dataframe()\n",
    "samples_df\n"
   ],
   "id": "47e9c51b35c132cc",
   "outputs": [
    {
     "name": "stderr",
     "output_type": "stream",
     "text": [
      "[2025-04-17T10:09:53.011448+0200][19891][CRITICAL] module disabled: /Users/bep/git/uni/synthcity/src/synthcity/plugins/generic/plugin_goggle.py\n",
      "[2025-04-17T10:09:53.012209+0200][19891][CRITICAL] load failed: module 'synthcity.plugins.generic.plugin_bayesian_network' has no attribute 'plugin'\n",
      "[2025-04-17T10:09:53.012520+0200][19891][CRITICAL] load failed: module 'synthcity.plugins.generic.plugin_bayesian_network' has no attribute 'plugin'\n",
      "[2025-04-17T10:09:53.012835+0200][19891][CRITICAL] module plugin_bayesian_network load failed\n",
      "[2025-04-17T10:09:53.013255+0200][19891][CRITICAL] load failed: module 'synthcity.plugins.privacy.plugin_decaf' has no attribute 'plugin'\n",
      "[2025-04-17T10:09:53.013634+0200][19891][CRITICAL] load failed: module 'synthcity.plugins.privacy.plugin_decaf' has no attribute 'plugin'\n",
      "[2025-04-17T10:09:53.013864+0200][19891][CRITICAL] module plugin_decaf load failed\n",
      "[2025-04-17T10:09:53.014257+0200][19891][CRITICAL] load failed: module 'synthcity.plugins.privacy.plugin_privbayes' has no attribute 'plugin'\n",
      "[2025-04-17T10:09:53.014620+0200][19891][CRITICAL] load failed: module 'synthcity.plugins.privacy.plugin_privbayes' has no attribute 'plugin'\n",
      "[2025-04-17T10:09:53.015061+0200][19891][CRITICAL] module plugin_privbayes load failed\n"
     ]
    },
    {
     "ename": "KeyboardInterrupt",
     "evalue": "",
     "output_type": "error",
     "traceback": [
      "\u001B[0;31m---------------------------------------------------------------------------\u001B[0m",
      "\u001B[0;31mKeyboardInterrupt\u001B[0m                         Traceback (most recent call last)",
      "Cell \u001B[0;32mIn[8], line 5\u001B[0m\n\u001B[1;32m      2\u001B[0m \u001B[38;5;28;01mfrom\u001B[39;00m\u001B[38;5;250m \u001B[39m\u001B[38;5;21;01msynthcity\u001B[39;00m\u001B[38;5;21;01m.\u001B[39;00m\u001B[38;5;21;01mutils\u001B[39;00m\u001B[38;5;21;01m.\u001B[39;00m\u001B[38;5;21;01mserialization\u001B[39;00m\u001B[38;5;250m \u001B[39m\u001B[38;5;28;01mimport\u001B[39;00m save_to_file, load_from_file\n\u001B[1;32m      4\u001B[0m tvae \u001B[38;5;241m=\u001B[39m Plugins()\u001B[38;5;241m.\u001B[39mget(\u001B[38;5;124m\"\u001B[39m\u001B[38;5;124mtvae\u001B[39m\u001B[38;5;124m\"\u001B[39m) \u001B[38;5;66;03m# can edit iterations here\u001B[39;00m\n\u001B[0;32m----> 5\u001B[0m \u001B[43mtvae\u001B[49m\u001B[38;5;241;43m.\u001B[39;49m\u001B[43mfit\u001B[49m\u001B[43m(\u001B[49m\u001B[43mdf\u001B[49m\u001B[43m)\u001B[49m\n\u001B[1;32m      7\u001B[0m save_to_file(\u001B[38;5;124m\"\u001B[39m\u001B[38;5;124mtvae_no_pp.pkl\u001B[39m\u001B[38;5;124m\"\u001B[39m, tvae)\n\u001B[1;32m      8\u001B[0m training_data_sample_size \u001B[38;5;241m=\u001B[39m df\u001B[38;5;241m.\u001B[39mshape[\u001B[38;5;241m0\u001B[39m]\n",
      "File \u001B[0;32m~/git/uni/synthcity/.venv/lib/python3.9/site-packages/pydantic/deprecated/decorator.py:56\u001B[0m, in \u001B[0;36mvalidate_arguments.<locals>.validate.<locals>.wrapper_function\u001B[0;34m(*args, **kwargs)\u001B[0m\n\u001B[1;32m     54\u001B[0m \u001B[38;5;129m@wraps\u001B[39m(_func)\n\u001B[1;32m     55\u001B[0m \u001B[38;5;28;01mdef\u001B[39;00m\u001B[38;5;250m \u001B[39m\u001B[38;5;21mwrapper_function\u001B[39m(\u001B[38;5;241m*\u001B[39margs: Any, \u001B[38;5;241m*\u001B[39m\u001B[38;5;241m*\u001B[39mkwargs: Any) \u001B[38;5;241m-\u001B[39m\u001B[38;5;241m>\u001B[39m Any:\n\u001B[0;32m---> 56\u001B[0m     \u001B[38;5;28;01mreturn\u001B[39;00m \u001B[43mvd\u001B[49m\u001B[38;5;241;43m.\u001B[39;49m\u001B[43mcall\u001B[49m\u001B[43m(\u001B[49m\u001B[38;5;241;43m*\u001B[39;49m\u001B[43margs\u001B[49m\u001B[43m,\u001B[49m\u001B[43m \u001B[49m\u001B[38;5;241;43m*\u001B[39;49m\u001B[38;5;241;43m*\u001B[39;49m\u001B[43mkwargs\u001B[49m\u001B[43m)\u001B[49m\n",
      "File \u001B[0;32m~/git/uni/synthcity/.venv/lib/python3.9/site-packages/pydantic/deprecated/decorator.py:151\u001B[0m, in \u001B[0;36mValidatedFunction.call\u001B[0;34m(self, *args, **kwargs)\u001B[0m\n\u001B[1;32m    149\u001B[0m \u001B[38;5;28;01mdef\u001B[39;00m\u001B[38;5;250m \u001B[39m\u001B[38;5;21mcall\u001B[39m(\u001B[38;5;28mself\u001B[39m, \u001B[38;5;241m*\u001B[39margs: Any, \u001B[38;5;241m*\u001B[39m\u001B[38;5;241m*\u001B[39mkwargs: Any) \u001B[38;5;241m-\u001B[39m\u001B[38;5;241m>\u001B[39m Any:\n\u001B[1;32m    150\u001B[0m     m \u001B[38;5;241m=\u001B[39m \u001B[38;5;28mself\u001B[39m\u001B[38;5;241m.\u001B[39minit_model_instance(\u001B[38;5;241m*\u001B[39margs, \u001B[38;5;241m*\u001B[39m\u001B[38;5;241m*\u001B[39mkwargs)\n\u001B[0;32m--> 151\u001B[0m     \u001B[38;5;28;01mreturn\u001B[39;00m \u001B[38;5;28;43mself\u001B[39;49m\u001B[38;5;241;43m.\u001B[39;49m\u001B[43mexecute\u001B[49m\u001B[43m(\u001B[49m\u001B[43mm\u001B[49m\u001B[43m)\u001B[49m\n",
      "File \u001B[0;32m~/git/uni/synthcity/.venv/lib/python3.9/site-packages/pydantic/deprecated/decorator.py:227\u001B[0m, in \u001B[0;36mValidatedFunction.execute\u001B[0;34m(self, m)\u001B[0m\n\u001B[1;32m    225\u001B[0m     \u001B[38;5;28;01mreturn\u001B[39;00m \u001B[38;5;28mself\u001B[39m\u001B[38;5;241m.\u001B[39mraw_function(\u001B[38;5;241m*\u001B[39margs_, \u001B[38;5;241m*\u001B[39m\u001B[38;5;241m*\u001B[39mkwargs, \u001B[38;5;241m*\u001B[39m\u001B[38;5;241m*\u001B[39mvar_kwargs)\n\u001B[1;32m    226\u001B[0m \u001B[38;5;28;01melse\u001B[39;00m:\n\u001B[0;32m--> 227\u001B[0m     \u001B[38;5;28;01mreturn\u001B[39;00m \u001B[38;5;28;43mself\u001B[39;49m\u001B[38;5;241;43m.\u001B[39;49m\u001B[43mraw_function\u001B[49m\u001B[43m(\u001B[49m\u001B[38;5;241;43m*\u001B[39;49m\u001B[38;5;241;43m*\u001B[39;49m\u001B[43md\u001B[49m\u001B[43m,\u001B[49m\u001B[43m \u001B[49m\u001B[38;5;241;43m*\u001B[39;49m\u001B[38;5;241;43m*\u001B[39;49m\u001B[43mvar_kwargs\u001B[49m\u001B[43m)\u001B[49m\n",
      "File \u001B[0;32m~/git/uni/synthcity/src/synthcity/plugins/core/plugin.py:254\u001B[0m, in \u001B[0;36mPlugin.fit\u001B[0;34m(self, X, *args, **kwargs)\u001B[0m\n\u001B[1;32m    246\u001B[0m         X, \u001B[38;5;28mself\u001B[39m\u001B[38;5;241m.\u001B[39mcompress_context \u001B[38;5;241m=\u001B[39m load_from_file(bkp_file)\n\u001B[1;32m    248\u001B[0m \u001B[38;5;28mself\u001B[39m\u001B[38;5;241m.\u001B[39m_training_schema \u001B[38;5;241m=\u001B[39m Schema(\n\u001B[1;32m    249\u001B[0m     data\u001B[38;5;241m=\u001B[39mX,\n\u001B[1;32m    250\u001B[0m     sampling_strategy\u001B[38;5;241m=\u001B[39m\u001B[38;5;28mself\u001B[39m\u001B[38;5;241m.\u001B[39msampling_strategy,\n\u001B[1;32m    251\u001B[0m     random_state\u001B[38;5;241m=\u001B[39m\u001B[38;5;28mself\u001B[39m\u001B[38;5;241m.\u001B[39mrandom_state,\n\u001B[1;32m    252\u001B[0m )\n\u001B[0;32m--> 254\u001B[0m output \u001B[38;5;241m=\u001B[39m \u001B[38;5;28;43mself\u001B[39;49m\u001B[38;5;241;43m.\u001B[39;49m\u001B[43m_fit\u001B[49m\u001B[43m(\u001B[49m\u001B[43mX\u001B[49m\u001B[43m,\u001B[49m\u001B[43m \u001B[49m\u001B[38;5;241;43m*\u001B[39;49m\u001B[43margs\u001B[49m\u001B[43m,\u001B[49m\u001B[43m \u001B[49m\u001B[38;5;241;43m*\u001B[39;49m\u001B[38;5;241;43m*\u001B[39;49m\u001B[43mkwargs\u001B[49m\u001B[43m)\u001B[49m\n\u001B[1;32m    255\u001B[0m \u001B[38;5;28mself\u001B[39m\u001B[38;5;241m.\u001B[39mfitted \u001B[38;5;241m=\u001B[39m \u001B[38;5;28;01mTrue\u001B[39;00m\n\u001B[1;32m    257\u001B[0m \u001B[38;5;28;01mreturn\u001B[39;00m output\n",
      "File \u001B[0;32m~/git/uni/synthcity/src/synthcity/plugins/generic/plugin_tvae.py:226\u001B[0m, in \u001B[0;36mTVAEPlugin._fit\u001B[0;34m(self, X, *args, **kwargs)\u001B[0m\n\u001B[1;32m    194\u001B[0m     cond \u001B[38;5;241m=\u001B[39m kwargs[\u001B[38;5;124m\"\u001B[39m\u001B[38;5;124mcond\u001B[39m\u001B[38;5;124m\"\u001B[39m]\n\u001B[1;32m    196\u001B[0m \u001B[38;5;28mself\u001B[39m\u001B[38;5;241m.\u001B[39mmodel \u001B[38;5;241m=\u001B[39m TabularVAE(\n\u001B[1;32m    197\u001B[0m     X\u001B[38;5;241m.\u001B[39mdataframe(),\n\u001B[1;32m    198\u001B[0m     cond\u001B[38;5;241m=\u001B[39mcond,\n\u001B[0;32m   (...)\u001B[0m\n\u001B[1;32m    224\u001B[0m     device\u001B[38;5;241m=\u001B[39m\u001B[38;5;28mself\u001B[39m\u001B[38;5;241m.\u001B[39mdevice,\n\u001B[1;32m    225\u001B[0m )\n\u001B[0;32m--> 226\u001B[0m \u001B[38;5;28;43mself\u001B[39;49m\u001B[38;5;241;43m.\u001B[39;49m\u001B[43mmodel\u001B[49m\u001B[38;5;241;43m.\u001B[39;49m\u001B[43mfit\u001B[49m\u001B[43m(\u001B[49m\u001B[43mX\u001B[49m\u001B[38;5;241;43m.\u001B[39;49m\u001B[43mdataframe\u001B[49m\u001B[43m(\u001B[49m\u001B[43m)\u001B[49m\u001B[43m,\u001B[49m\u001B[43m \u001B[49m\u001B[38;5;241;43m*\u001B[39;49m\u001B[38;5;241;43m*\u001B[39;49m\u001B[43mkwargs\u001B[49m\u001B[43m)\u001B[49m\n\u001B[1;32m    228\u001B[0m \u001B[38;5;28;01mreturn\u001B[39;00m \u001B[38;5;28mself\u001B[39m\n",
      "File \u001B[0;32m~/git/uni/synthcity/.venv/lib/python3.9/site-packages/pydantic/deprecated/decorator.py:56\u001B[0m, in \u001B[0;36mvalidate_arguments.<locals>.validate.<locals>.wrapper_function\u001B[0;34m(*args, **kwargs)\u001B[0m\n\u001B[1;32m     54\u001B[0m \u001B[38;5;129m@wraps\u001B[39m(_func)\n\u001B[1;32m     55\u001B[0m \u001B[38;5;28;01mdef\u001B[39;00m\u001B[38;5;250m \u001B[39m\u001B[38;5;21mwrapper_function\u001B[39m(\u001B[38;5;241m*\u001B[39margs: Any, \u001B[38;5;241m*\u001B[39m\u001B[38;5;241m*\u001B[39mkwargs: Any) \u001B[38;5;241m-\u001B[39m\u001B[38;5;241m>\u001B[39m Any:\n\u001B[0;32m---> 56\u001B[0m     \u001B[38;5;28;01mreturn\u001B[39;00m \u001B[43mvd\u001B[49m\u001B[38;5;241;43m.\u001B[39;49m\u001B[43mcall\u001B[49m\u001B[43m(\u001B[49m\u001B[38;5;241;43m*\u001B[39;49m\u001B[43margs\u001B[49m\u001B[43m,\u001B[49m\u001B[43m \u001B[49m\u001B[38;5;241;43m*\u001B[39;49m\u001B[38;5;241;43m*\u001B[39;49m\u001B[43mkwargs\u001B[49m\u001B[43m)\u001B[49m\n",
      "File \u001B[0;32m~/git/uni/synthcity/.venv/lib/python3.9/site-packages/pydantic/deprecated/decorator.py:151\u001B[0m, in \u001B[0;36mValidatedFunction.call\u001B[0;34m(self, *args, **kwargs)\u001B[0m\n\u001B[1;32m    149\u001B[0m \u001B[38;5;28;01mdef\u001B[39;00m\u001B[38;5;250m \u001B[39m\u001B[38;5;21mcall\u001B[39m(\u001B[38;5;28mself\u001B[39m, \u001B[38;5;241m*\u001B[39margs: Any, \u001B[38;5;241m*\u001B[39m\u001B[38;5;241m*\u001B[39mkwargs: Any) \u001B[38;5;241m-\u001B[39m\u001B[38;5;241m>\u001B[39m Any:\n\u001B[1;32m    150\u001B[0m     m \u001B[38;5;241m=\u001B[39m \u001B[38;5;28mself\u001B[39m\u001B[38;5;241m.\u001B[39minit_model_instance(\u001B[38;5;241m*\u001B[39margs, \u001B[38;5;241m*\u001B[39m\u001B[38;5;241m*\u001B[39mkwargs)\n\u001B[0;32m--> 151\u001B[0m     \u001B[38;5;28;01mreturn\u001B[39;00m \u001B[38;5;28;43mself\u001B[39;49m\u001B[38;5;241;43m.\u001B[39;49m\u001B[43mexecute\u001B[49m\u001B[43m(\u001B[49m\u001B[43mm\u001B[49m\u001B[43m)\u001B[49m\n",
      "File \u001B[0;32m~/git/uni/synthcity/.venv/lib/python3.9/site-packages/pydantic/deprecated/decorator.py:227\u001B[0m, in \u001B[0;36mValidatedFunction.execute\u001B[0;34m(self, m)\u001B[0m\n\u001B[1;32m    225\u001B[0m     \u001B[38;5;28;01mreturn\u001B[39;00m \u001B[38;5;28mself\u001B[39m\u001B[38;5;241m.\u001B[39mraw_function(\u001B[38;5;241m*\u001B[39margs_, \u001B[38;5;241m*\u001B[39m\u001B[38;5;241m*\u001B[39mkwargs, \u001B[38;5;241m*\u001B[39m\u001B[38;5;241m*\u001B[39mvar_kwargs)\n\u001B[1;32m    226\u001B[0m \u001B[38;5;28;01melse\u001B[39;00m:\n\u001B[0;32m--> 227\u001B[0m     \u001B[38;5;28;01mreturn\u001B[39;00m \u001B[38;5;28;43mself\u001B[39;49m\u001B[38;5;241;43m.\u001B[39;49m\u001B[43mraw_function\u001B[49m\u001B[43m(\u001B[49m\u001B[38;5;241;43m*\u001B[39;49m\u001B[38;5;241;43m*\u001B[39;49m\u001B[43md\u001B[49m\u001B[43m,\u001B[49m\u001B[43m \u001B[49m\u001B[38;5;241;43m*\u001B[39;49m\u001B[38;5;241;43m*\u001B[39;49m\u001B[43mvar_kwargs\u001B[49m\u001B[43m)\u001B[49m\n",
      "File \u001B[0;32m~/git/uni/synthcity/src/synthcity/plugins/core/models/tabular_vae.py:272\u001B[0m, in \u001B[0;36mTabularVAE.fit\u001B[0;34m(self, X, cond, **kwargs)\u001B[0m\n\u001B[1;32m    267\u001B[0m     \u001B[38;5;28;01mif\u001B[39;00m \u001B[38;5;28mlen\u001B[39m(cond) \u001B[38;5;241m!=\u001B[39m \u001B[38;5;28mlen\u001B[39m(X_enc):\n\u001B[1;32m    268\u001B[0m         \u001B[38;5;28;01mraise\u001B[39;00m \u001B[38;5;167;01mValueError\u001B[39;00m(\n\u001B[1;32m    269\u001B[0m             \u001B[38;5;124mf\u001B[39m\u001B[38;5;124m\"\u001B[39m\u001B[38;5;124mInvalid conditional shape. \u001B[39m\u001B[38;5;132;01m{\u001B[39;00mcond\u001B[38;5;241m.\u001B[39mshape\u001B[38;5;132;01m}\u001B[39;00m\u001B[38;5;124m expected \u001B[39m\u001B[38;5;132;01m{\u001B[39;00m\u001B[38;5;28mlen\u001B[39m(X_enc)\u001B[38;5;132;01m}\u001B[39;00m\u001B[38;5;124m\"\u001B[39m\n\u001B[1;32m    270\u001B[0m         )\n\u001B[0;32m--> 272\u001B[0m \u001B[38;5;28;43mself\u001B[39;49m\u001B[38;5;241;43m.\u001B[39;49m\u001B[43mmodel\u001B[49m\u001B[38;5;241;43m.\u001B[39;49m\u001B[43mfit\u001B[49m\u001B[43m(\u001B[49m\u001B[43mX_enc\u001B[49m\u001B[43m,\u001B[49m\u001B[43m \u001B[49m\u001B[43mcond\u001B[49m\u001B[43m,\u001B[49m\u001B[43m \u001B[49m\u001B[38;5;241;43m*\u001B[39;49m\u001B[38;5;241;43m*\u001B[39;49m\u001B[43mkwargs\u001B[49m\u001B[43m)\u001B[49m\n\u001B[1;32m    273\u001B[0m \u001B[38;5;28;01mreturn\u001B[39;00m \u001B[38;5;28mself\u001B[39m\n",
      "File \u001B[0;32m~/git/uni/synthcity/src/synthcity/plugins/core/models/vae.py:303\u001B[0m, in \u001B[0;36mVAE.fit\u001B[0;34m(self, X, cond)\u001B[0m\n\u001B[1;32m    297\u001B[0m         \u001B[38;5;28;01mraise\u001B[39;00m \u001B[38;5;167;01mValueError\u001B[39;00m(\n\u001B[1;32m    298\u001B[0m             \u001B[38;5;124m\"\u001B[39m\u001B[38;5;124mExpecting conditional with the same length as the dataset\u001B[39m\u001B[38;5;124m\"\u001B[39m\n\u001B[1;32m    299\u001B[0m         )\n\u001B[1;32m    301\u001B[0m     condt \u001B[38;5;241m=\u001B[39m \u001B[38;5;28mself\u001B[39m\u001B[38;5;241m.\u001B[39m_check_tensor(cond)\n\u001B[0;32m--> 303\u001B[0m \u001B[38;5;28;43mself\u001B[39;49m\u001B[38;5;241;43m.\u001B[39;49m\u001B[43m_train\u001B[49m\u001B[43m(\u001B[49m\u001B[43mXt\u001B[49m\u001B[43m,\u001B[49m\u001B[43m \u001B[49m\u001B[43mcondt\u001B[49m\u001B[43m)\u001B[49m\n\u001B[1;32m    305\u001B[0m \u001B[38;5;28;01mreturn\u001B[39;00m \u001B[38;5;28mself\u001B[39m\n",
      "File \u001B[0;32m~/git/uni/synthcity/.venv/lib/python3.9/site-packages/pydantic/deprecated/decorator.py:56\u001B[0m, in \u001B[0;36mvalidate_arguments.<locals>.validate.<locals>.wrapper_function\u001B[0;34m(*args, **kwargs)\u001B[0m\n\u001B[1;32m     54\u001B[0m \u001B[38;5;129m@wraps\u001B[39m(_func)\n\u001B[1;32m     55\u001B[0m \u001B[38;5;28;01mdef\u001B[39;00m\u001B[38;5;250m \u001B[39m\u001B[38;5;21mwrapper_function\u001B[39m(\u001B[38;5;241m*\u001B[39margs: Any, \u001B[38;5;241m*\u001B[39m\u001B[38;5;241m*\u001B[39mkwargs: Any) \u001B[38;5;241m-\u001B[39m\u001B[38;5;241m>\u001B[39m Any:\n\u001B[0;32m---> 56\u001B[0m     \u001B[38;5;28;01mreturn\u001B[39;00m \u001B[43mvd\u001B[49m\u001B[38;5;241;43m.\u001B[39;49m\u001B[43mcall\u001B[49m\u001B[43m(\u001B[49m\u001B[38;5;241;43m*\u001B[39;49m\u001B[43margs\u001B[49m\u001B[43m,\u001B[49m\u001B[43m \u001B[49m\u001B[38;5;241;43m*\u001B[39;49m\u001B[38;5;241;43m*\u001B[39;49m\u001B[43mkwargs\u001B[49m\u001B[43m)\u001B[49m\n",
      "File \u001B[0;32m~/git/uni/synthcity/.venv/lib/python3.9/site-packages/pydantic/deprecated/decorator.py:151\u001B[0m, in \u001B[0;36mValidatedFunction.call\u001B[0;34m(self, *args, **kwargs)\u001B[0m\n\u001B[1;32m    149\u001B[0m \u001B[38;5;28;01mdef\u001B[39;00m\u001B[38;5;250m \u001B[39m\u001B[38;5;21mcall\u001B[39m(\u001B[38;5;28mself\u001B[39m, \u001B[38;5;241m*\u001B[39margs: Any, \u001B[38;5;241m*\u001B[39m\u001B[38;5;241m*\u001B[39mkwargs: Any) \u001B[38;5;241m-\u001B[39m\u001B[38;5;241m>\u001B[39m Any:\n\u001B[1;32m    150\u001B[0m     m \u001B[38;5;241m=\u001B[39m \u001B[38;5;28mself\u001B[39m\u001B[38;5;241m.\u001B[39minit_model_instance(\u001B[38;5;241m*\u001B[39margs, \u001B[38;5;241m*\u001B[39m\u001B[38;5;241m*\u001B[39mkwargs)\n\u001B[0;32m--> 151\u001B[0m     \u001B[38;5;28;01mreturn\u001B[39;00m \u001B[38;5;28;43mself\u001B[39;49m\u001B[38;5;241;43m.\u001B[39;49m\u001B[43mexecute\u001B[49m\u001B[43m(\u001B[49m\u001B[43mm\u001B[49m\u001B[43m)\u001B[49m\n",
      "File \u001B[0;32m~/git/uni/synthcity/.venv/lib/python3.9/site-packages/pydantic/deprecated/decorator.py:227\u001B[0m, in \u001B[0;36mValidatedFunction.execute\u001B[0;34m(self, m)\u001B[0m\n\u001B[1;32m    225\u001B[0m     \u001B[38;5;28;01mreturn\u001B[39;00m \u001B[38;5;28mself\u001B[39m\u001B[38;5;241m.\u001B[39mraw_function(\u001B[38;5;241m*\u001B[39margs_, \u001B[38;5;241m*\u001B[39m\u001B[38;5;241m*\u001B[39mkwargs, \u001B[38;5;241m*\u001B[39m\u001B[38;5;241m*\u001B[39mvar_kwargs)\n\u001B[1;32m    226\u001B[0m \u001B[38;5;28;01melse\u001B[39;00m:\n\u001B[0;32m--> 227\u001B[0m     \u001B[38;5;28;01mreturn\u001B[39;00m \u001B[38;5;28;43mself\u001B[39;49m\u001B[38;5;241;43m.\u001B[39;49m\u001B[43mraw_function\u001B[49m\u001B[43m(\u001B[49m\u001B[38;5;241;43m*\u001B[39;49m\u001B[38;5;241;43m*\u001B[39;49m\u001B[43md\u001B[49m\u001B[43m,\u001B[49m\u001B[43m \u001B[49m\u001B[38;5;241;43m*\u001B[39;49m\u001B[38;5;241;43m*\u001B[39;49m\u001B[43mvar_kwargs\u001B[49m\u001B[43m)\u001B[49m\n",
      "File \u001B[0;32m~/git/uni/synthcity/src/synthcity/plugins/core/models/vae.py:397\u001B[0m, in \u001B[0;36mVAE._train\u001B[0;34m(self, X, cond)\u001B[0m\n\u001B[1;32m    389\u001B[0m \u001B[38;5;129m@validate_arguments\u001B[39m(config\u001B[38;5;241m=\u001B[39m\u001B[38;5;28mdict\u001B[39m(arbitrary_types_allowed\u001B[38;5;241m=\u001B[39m\u001B[38;5;28;01mTrue\u001B[39;00m))\n\u001B[1;32m    390\u001B[0m \u001B[38;5;28;01mdef\u001B[39;00m\u001B[38;5;250m \u001B[39m\u001B[38;5;21m_train\u001B[39m(\n\u001B[1;32m    391\u001B[0m     \u001B[38;5;28mself\u001B[39m,\n\u001B[1;32m    392\u001B[0m     X: Tensor,\n\u001B[1;32m    393\u001B[0m     cond: Optional[torch\u001B[38;5;241m.\u001B[39mTensor] \u001B[38;5;241m=\u001B[39m \u001B[38;5;28;01mNone\u001B[39;00m,\n\u001B[1;32m    394\u001B[0m ) \u001B[38;5;241m-\u001B[39m\u001B[38;5;241m>\u001B[39m Any:\n\u001B[1;32m    395\u001B[0m     \u001B[38;5;28mself\u001B[39m\u001B[38;5;241m.\u001B[39m_original_cond \u001B[38;5;241m=\u001B[39m cond\n\u001B[0;32m--> 397\u001B[0m     X, X_val, cond, cond_val \u001B[38;5;241m=\u001B[39m \u001B[38;5;28;43mself\u001B[39;49m\u001B[38;5;241;43m.\u001B[39;49m\u001B[43m_train_test_split\u001B[49m\u001B[43m(\u001B[49m\u001B[43mX\u001B[49m\u001B[43m,\u001B[49m\u001B[43m \u001B[49m\u001B[43mcond\u001B[49m\u001B[43m)\u001B[49m\n\u001B[1;32m    398\u001B[0m     loader \u001B[38;5;241m=\u001B[39m \u001B[38;5;28mself\u001B[39m\u001B[38;5;241m.\u001B[39m_dataloader(X, cond)\n\u001B[1;32m    400\u001B[0m     optimizer \u001B[38;5;241m=\u001B[39m Adam(\n\u001B[1;32m    401\u001B[0m         \u001B[38;5;28mself\u001B[39m\u001B[38;5;241m.\u001B[39mparameters(),\n\u001B[1;32m    402\u001B[0m         weight_decay\u001B[38;5;241m=\u001B[39m\u001B[38;5;28mself\u001B[39m\u001B[38;5;241m.\u001B[39mweight_decay,\n\u001B[1;32m    403\u001B[0m         lr\u001B[38;5;241m=\u001B[39m\u001B[38;5;28mself\u001B[39m\u001B[38;5;241m.\u001B[39mlr,\n\u001B[1;32m    404\u001B[0m     )\n",
      "File \u001B[0;32m~/git/uni/synthcity/src/synthcity/plugins/core/models/vae.py:380\u001B[0m, in \u001B[0;36mVAE._train_test_split\u001B[0;34m(self, X, cond)\u001B[0m\n\u001B[1;32m    378\u001B[0m total_indices \u001B[38;5;241m=\u001B[39m np\u001B[38;5;241m.\u001B[39marange(\u001B[38;5;28mlen\u001B[39m(X))\n\u001B[1;32m    379\u001B[0m train_idx \u001B[38;5;241m=\u001B[39m total_indices[np\u001B[38;5;241m.\u001B[39misin(player_ids_np, \u001B[38;5;28mlist\u001B[39m(train_ids))]\n\u001B[0;32m--> 380\u001B[0m test_idx \u001B[38;5;241m=\u001B[39m total_indices[\u001B[43mnp\u001B[49m\u001B[38;5;241;43m.\u001B[39;49m\u001B[43misin\u001B[49m\u001B[43m(\u001B[49m\u001B[43mplayer_ids_np\u001B[49m\u001B[43m,\u001B[49m\u001B[43m \u001B[49m\u001B[38;5;28;43mlist\u001B[39;49m\u001B[43m(\u001B[49m\u001B[43mval_ids\u001B[49m\u001B[43m)\u001B[49m\u001B[43m)\u001B[49m]\n\u001B[1;32m    382\u001B[0m X_train, X_val \u001B[38;5;241m=\u001B[39m X[train_idx], X[test_idx]\n\u001B[1;32m    383\u001B[0m cond_train, cond_test \u001B[38;5;241m=\u001B[39m \u001B[38;5;28;01mNone\u001B[39;00m, \u001B[38;5;28;01mNone\u001B[39;00m\n",
      "File \u001B[0;32m~/git/uni/synthcity/.venv/lib/python3.9/site-packages/numpy/lib/arraysetops.py:890\u001B[0m, in \u001B[0;36misin\u001B[0;34m(element, test_elements, assume_unique, invert, kind)\u001B[0m\n\u001B[1;32m    769\u001B[0m \u001B[38;5;250m\u001B[39m\u001B[38;5;124;03m\"\"\"\u001B[39;00m\n\u001B[1;32m    770\u001B[0m \u001B[38;5;124;03mCalculates ``element in test_elements``, broadcasting over `element` only.\u001B[39;00m\n\u001B[1;32m    771\u001B[0m \u001B[38;5;124;03mReturns a boolean array of the same shape as `element` that is True\u001B[39;00m\n\u001B[0;32m   (...)\u001B[0m\n\u001B[1;32m    887\u001B[0m \u001B[38;5;124;03m       [ True, False]])\u001B[39;00m\n\u001B[1;32m    888\u001B[0m \u001B[38;5;124;03m\"\"\"\u001B[39;00m\n\u001B[1;32m    889\u001B[0m element \u001B[38;5;241m=\u001B[39m np\u001B[38;5;241m.\u001B[39masarray(element)\n\u001B[0;32m--> 890\u001B[0m \u001B[38;5;28;01mreturn\u001B[39;00m \u001B[43min1d\u001B[49m\u001B[43m(\u001B[49m\u001B[43melement\u001B[49m\u001B[43m,\u001B[49m\u001B[43m \u001B[49m\u001B[43mtest_elements\u001B[49m\u001B[43m,\u001B[49m\u001B[43m \u001B[49m\u001B[43massume_unique\u001B[49m\u001B[38;5;241;43m=\u001B[39;49m\u001B[43massume_unique\u001B[49m\u001B[43m,\u001B[49m\n\u001B[1;32m    891\u001B[0m \u001B[43m            \u001B[49m\u001B[43minvert\u001B[49m\u001B[38;5;241;43m=\u001B[39;49m\u001B[43minvert\u001B[49m\u001B[43m,\u001B[49m\u001B[43m \u001B[49m\u001B[43mkind\u001B[49m\u001B[38;5;241;43m=\u001B[39;49m\u001B[43mkind\u001B[49m\u001B[43m)\u001B[49m\u001B[38;5;241m.\u001B[39mreshape(element\u001B[38;5;241m.\u001B[39mshape)\n",
      "File \u001B[0;32m~/git/uni/synthcity/.venv/lib/python3.9/site-packages/numpy/lib/arraysetops.py:738\u001B[0m, in \u001B[0;36min1d\u001B[0;34m(ar1, ar2, assume_unique, invert, kind)\u001B[0m\n\u001B[1;32m    736\u001B[0m \u001B[38;5;66;03m# Otherwise use sorting\u001B[39;00m\n\u001B[1;32m    737\u001B[0m \u001B[38;5;28;01mif\u001B[39;00m \u001B[38;5;129;01mnot\u001B[39;00m assume_unique:\n\u001B[0;32m--> 738\u001B[0m     ar1, rev_idx \u001B[38;5;241m=\u001B[39m \u001B[43mnp\u001B[49m\u001B[38;5;241;43m.\u001B[39;49m\u001B[43munique\u001B[49m\u001B[43m(\u001B[49m\u001B[43mar1\u001B[49m\u001B[43m,\u001B[49m\u001B[43m \u001B[49m\u001B[43mreturn_inverse\u001B[49m\u001B[38;5;241;43m=\u001B[39;49m\u001B[38;5;28;43;01mTrue\u001B[39;49;00m\u001B[43m)\u001B[49m\n\u001B[1;32m    739\u001B[0m     ar2 \u001B[38;5;241m=\u001B[39m np\u001B[38;5;241m.\u001B[39munique(ar2)\n\u001B[1;32m    741\u001B[0m ar \u001B[38;5;241m=\u001B[39m np\u001B[38;5;241m.\u001B[39mconcatenate((ar1, ar2))\n",
      "File \u001B[0;32m~/git/uni/synthcity/.venv/lib/python3.9/site-packages/numpy/lib/arraysetops.py:274\u001B[0m, in \u001B[0;36munique\u001B[0;34m(ar, return_index, return_inverse, return_counts, axis, equal_nan)\u001B[0m\n\u001B[1;32m    272\u001B[0m ar \u001B[38;5;241m=\u001B[39m np\u001B[38;5;241m.\u001B[39masanyarray(ar)\n\u001B[1;32m    273\u001B[0m \u001B[38;5;28;01mif\u001B[39;00m axis \u001B[38;5;129;01mis\u001B[39;00m \u001B[38;5;28;01mNone\u001B[39;00m:\n\u001B[0;32m--> 274\u001B[0m     ret \u001B[38;5;241m=\u001B[39m \u001B[43m_unique1d\u001B[49m\u001B[43m(\u001B[49m\u001B[43mar\u001B[49m\u001B[43m,\u001B[49m\u001B[43m \u001B[49m\u001B[43mreturn_index\u001B[49m\u001B[43m,\u001B[49m\u001B[43m \u001B[49m\u001B[43mreturn_inverse\u001B[49m\u001B[43m,\u001B[49m\u001B[43m \u001B[49m\u001B[43mreturn_counts\u001B[49m\u001B[43m,\u001B[49m\u001B[43m \u001B[49m\n\u001B[1;32m    275\u001B[0m \u001B[43m                    \u001B[49m\u001B[43mequal_nan\u001B[49m\u001B[38;5;241;43m=\u001B[39;49m\u001B[43mequal_nan\u001B[49m\u001B[43m)\u001B[49m\n\u001B[1;32m    276\u001B[0m     \u001B[38;5;28;01mreturn\u001B[39;00m _unpack_tuple(ret)\n\u001B[1;32m    278\u001B[0m \u001B[38;5;66;03m# axis was specified and not None\u001B[39;00m\n",
      "File \u001B[0;32m~/git/uni/synthcity/.venv/lib/python3.9/site-packages/numpy/lib/arraysetops.py:333\u001B[0m, in \u001B[0;36m_unique1d\u001B[0;34m(ar, return_index, return_inverse, return_counts, equal_nan)\u001B[0m\n\u001B[1;32m    330\u001B[0m optional_indices \u001B[38;5;241m=\u001B[39m return_index \u001B[38;5;129;01mor\u001B[39;00m return_inverse\n\u001B[1;32m    332\u001B[0m \u001B[38;5;28;01mif\u001B[39;00m optional_indices:\n\u001B[0;32m--> 333\u001B[0m     perm \u001B[38;5;241m=\u001B[39m \u001B[43mar\u001B[49m\u001B[38;5;241;43m.\u001B[39;49m\u001B[43margsort\u001B[49m\u001B[43m(\u001B[49m\u001B[43mkind\u001B[49m\u001B[38;5;241;43m=\u001B[39;49m\u001B[38;5;124;43m'\u001B[39;49m\u001B[38;5;124;43mmergesort\u001B[39;49m\u001B[38;5;124;43m'\u001B[39;49m\u001B[43m \u001B[49m\u001B[38;5;28;43;01mif\u001B[39;49;00m\u001B[43m \u001B[49m\u001B[43mreturn_index\u001B[49m\u001B[43m \u001B[49m\u001B[38;5;28;43;01melse\u001B[39;49;00m\u001B[43m \u001B[49m\u001B[38;5;124;43m'\u001B[39;49m\u001B[38;5;124;43mquicksort\u001B[39;49m\u001B[38;5;124;43m'\u001B[39;49m\u001B[43m)\u001B[49m\n\u001B[1;32m    334\u001B[0m     aux \u001B[38;5;241m=\u001B[39m ar[perm]\n\u001B[1;32m    335\u001B[0m \u001B[38;5;28;01melse\u001B[39;00m:\n",
      "\u001B[0;31mKeyboardInterrupt\u001B[0m: "
     ]
    }
   ],
   "execution_count": 8
  },
  {
   "metadata": {
    "ExecuteTime": {
     "end_time": "2025-04-16T21:52:59.593877Z",
     "start_time": "2025-04-16T21:52:59.590964Z"
    }
   },
   "cell_type": "code",
   "source": "samples_df.season_id.value_counts()\n",
   "id": "8ea94e40e1cd230a",
   "outputs": [
    {
     "data": {
      "text/plain": [
       "season_id\n",
       "2011    6037\n",
       "2016    5560\n",
       "2019    5476\n",
       "2018    5366\n",
       "2014    5001\n",
       "2013    4845\n",
       "2017    4739\n",
       "2015    4419\n",
       "2010    4287\n",
       "2012    3963\n",
       "Name: count, dtype: int64"
      ]
     },
     "execution_count": 4,
     "metadata": {},
     "output_type": "execute_result"
    }
   ],
   "execution_count": 4
  },
  {
   "metadata": {
    "ExecuteTime": {
     "end_time": "2025-04-17T07:55:12.722585Z",
     "start_time": "2025-04-17T07:55:12.711310Z"
    }
   },
   "cell_type": "code",
   "source": "samples_df.reason.value_counts()",
   "id": "8ac39aecad10004",
   "outputs": [
    {
     "data": {
      "text/plain": [
       "reason\n",
       "injury                                                     10795\n",
       "injury,regular interval                                     9621\n",
       "regular interval                                            8011\n",
       "market value update                                         6346\n",
       "transfer                                                    3572\n",
       "injury end                                                  2644\n",
       "market value update,regular interval                        2575\n",
       "new coach,regular interval,market value update              2373\n",
       "new coach                                                   1798\n",
       "transfer,new coach,regular interval                          612\n",
       "new coach,market value update,regular interval               561\n",
       "transfer,regular interval                                    332\n",
       "new coach,regular interval                                   318\n",
       "transfer,injury                                               32\n",
       "transfer,injury end                                           30\n",
       "new coach,regular interval,injury end                         24\n",
       "transfer,market value update                                  19\n",
       "transfer,market value update,new coach,regular interval       15\n",
       "new coach,market value update                                  4\n",
       "transfer,market value update,regular interval                  3\n",
       "new coach,injury,regular interval                              3\n",
       "transfer,new coach                                             2\n",
       "transfer,regular interval,injury                               1\n",
       "injury,market value update,regular interval                    1\n",
       "new coach,injury end                                           1\n",
       "Name: count, dtype: int64"
      ]
     },
     "execution_count": 6,
     "metadata": {},
     "output_type": "execute_result"
    }
   ],
   "execution_count": 6
  },
  {
   "metadata": {
    "ExecuteTime": {
     "end_time": "2025-04-17T08:40:11.792139Z",
     "start_time": "2025-04-17T08:40:11.785882Z"
    }
   },
   "cell_type": "code",
   "source": "print(len(samples_df))",
   "id": "6137936595a933dc",
   "outputs": [
    {
     "name": "stdout",
     "output_type": "stream",
     "text": [
      "49693\n"
     ]
    }
   ],
   "execution_count": 10
  },
  {
   "metadata": {
    "ExecuteTime": {
     "end_time": "2025-04-16T21:52:59.890846Z",
     "start_time": "2025-04-16T21:52:59.734414Z"
    }
   },
   "cell_type": "code",
   "source": "samples_df.to_json(\"tvae_no_pp.json\", orient=\"records\")",
   "id": "99b15b9cd18df2d1",
   "outputs": [],
   "execution_count": 5
  },
  {
   "metadata": {
    "ExecuteTime": {
     "end_time": "2025-04-17T08:15:33.168715Z",
     "start_time": "2025-04-17T08:15:32.564428Z"
    }
   },
   "cell_type": "code",
   "source": [
    "# only for postprocessing now\n",
    "samplezz = pd.read_json(\"tvae_no_pp.json\")\n",
    "samplezz[string_cols] = samplezz[string_cols].astype(int)\n",
    "samplezz.to_json(\"tvae_no_pp.json\", orient=\"records\")"
   ],
   "id": "a1fc224675bb49c6",
   "outputs": [],
   "execution_count": 9
  }
 ],
 "metadata": {
  "kernelspec": {
   "display_name": "Python 3",
   "language": "python",
   "name": "python3"
  },
  "language_info": {
   "codemirror_mode": {
    "name": "ipython",
    "version": 2
   },
   "file_extension": ".py",
   "mimetype": "text/x-python",
   "name": "python",
   "nbconvert_exporter": "python",
   "pygments_lexer": "ipython2",
   "version": "2.7.6"
  }
 },
 "nbformat": 4,
 "nbformat_minor": 5
}
